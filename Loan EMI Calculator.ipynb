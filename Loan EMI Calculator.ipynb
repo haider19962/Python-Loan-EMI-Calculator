{
 "cells": [
  {
   "cell_type": "markdown",
   "metadata": {},
   "source": [
    "# Loan EMI Calculator using file read and write\n",
    "\n",
    "This program uses the read csv file program that I wrote previously to read files that contain information about loans. The list of dictionary obtained at the end is used to calculate the monthly installment. The monthly installment is added as a fifth column in the file using a new csv_write function"
   ]
  },
  {
   "cell_type": "code",
   "execution_count": 1,
   "metadata": {},
   "outputs": [
    {
     "data": {
      "text/plain": [
       "('./Working with CSV files/loans3.txt',\n",
       " <http.client.HTTPMessage at 0x2824df893a0>)"
      ]
     },
     "execution_count": 1,
     "metadata": {},
     "output_type": "execute_result"
    }
   ],
   "source": [
    "#This block imports libaries and downloads the required files\n",
    "import numpy as np\n",
    "import os\n",
    "import urllib.request\n",
    "import math\n",
    "\n",
    "url1 = 'https://gist.githubusercontent.com/aakashns/257f6e6c8719c17d0e498ea287d1a386/raw/7def9ef4234ddf0bc82f855ad67dac8b971852ef/loans1.txt'\n",
    "url2 = 'https://gist.githubusercontent.com/aakashns/257f6e6c8719c17d0e498ea287d1a386/raw/7def9ef4234ddf0bc82f855ad67dac8b971852ef/loans2.txt'\n",
    "url3 = 'https://gist.githubusercontent.com/aakashns/257f6e6c8719c17d0e498ea287d1a386/raw/7def9ef4234ddf0bc82f855ad67dac8b971852ef/loans3.txt'\n",
    "\n",
    "urllib.request.urlretrieve(url1,'./Working with CSV files/loans1.txt')\n",
    "urllib.request.urlretrieve(url2,'./Working with CSV files/loans2.txt')\n",
    "urllib.request.urlretrieve(url3,'./Working with CSV files/loans3.txt')"
   ]
  },
  {
   "cell_type": "code",
   "execution_count": 2,
   "metadata": {},
   "outputs": [],
   "source": [
    "#This block defines the functions used in the prgram\n",
    "\n",
    "#To extract header\n",
    "def parse_headers(header_line):\n",
    "    return header_line.strip().split(',')\n",
    "\n",
    "#To extract values and deal with missing data and converting data to float\n",
    "def parse_values(data_line):\n",
    "    values= []\n",
    "    for item in data_line.strip().split(','):\n",
    "        if item =='':\n",
    "            values.append(0.0)\n",
    "        else:\n",
    "            values.append(float(item))\n",
    "    return values\n",
    "\n",
    "#Creating dictionary from the haeder and values obtained from previous functions\n",
    "def create_item_dict(values, headers):\n",
    "    result={}\n",
    "    for v,h in zip(values, headers):\n",
    "        result[h] = v\n",
    "    return result \n",
    "    "
   ]
  },
  {
   "cell_type": "code",
   "execution_count": 3,
   "metadata": {},
   "outputs": [],
   "source": [
    "#Function to read the whole csv file\n",
    "def read_csv(path):\n",
    "    result = []\n",
    "    with open (path,'r') as f:\n",
    "        lines = f.readlines()\n",
    "        headers = parse_headers(lines[0])\n",
    "        for data_line in lines[1:]:\n",
    "            values = parse_values(data_line)\n",
    "            item_dict = create_item_dict(values, headers)\n",
    "            result.append(item_dict)\n",
    "    return result"
   ]
  },
  {
   "cell_type": "code",
   "execution_count": 4,
   "metadata": {},
   "outputs": [],
   "source": [
    "#To calculate monthly installment of loan \n",
    "def loan_emi(amount, duration, rate, down_payment=0):\n",
    "    loan_amount = amount - down_payment\n",
    "    try:\n",
    "        emi = loan_amount * rate *((1+rate)**duration) / (((1+rate)**duration)-1)\n",
    "    except ZeroDivisionError:\n",
    "        emi = load_amount / duration\n",
    "    emi = math.ceil(emi)\n",
    "    return emi"
   ]
  },
  {
   "cell_type": "code",
   "execution_count": 5,
   "metadata": {},
   "outputs": [],
   "source": [
    "#To compute loan installment and add it to the dictionary\n",
    "def compute_emi(loans):\n",
    "    for loan in loans:\n",
    "        loan['emi'] = loan_emi(loan['amount'], loan['duration'], loan['rate']/12, loan['down_payment'])\n",
    "    \n"
   ]
  },
  {
   "cell_type": "code",
   "execution_count": 6,
   "metadata": {},
   "outputs": [],
   "source": [
    "#function to save the updated dictionary to a new file\n",
    "def write_csv(items, path):\n",
    "    with open(path, 'w') as f:\n",
    "        if len(items) == 0:\n",
    "            return\n",
    "        \n",
    "        headers = list(items[0].keys())\n",
    "        f.write(',' .join(headers) + '\\n')\n",
    "        \n",
    "        for item in items:\n",
    "            values = []\n",
    "            for header in headers:\n",
    "                values.append(str(item.get(header,\"\")))\n",
    "            f.write(',' .join(values) + '\\n')"
   ]
  },
  {
   "cell_type": "code",
   "execution_count": 7,
   "metadata": {},
   "outputs": [],
   "source": [
    "for i in range(1,4):\n",
    "    loans = read_csv('./Working with CSV files/loans{}.txt'.format(i))\n",
    "    compute_emi(loans)\n",
    "    write_csv(loans, './Working with CSV files/emis{}.txt'.format(i))\n",
    "    "
   ]
  },
  {
   "cell_type": "code",
   "execution_count": null,
   "metadata": {},
   "outputs": [],
   "source": [
    "os.listdir('./Working with CSV files')"
   ]
  },
  {
   "cell_type": "code",
   "execution_count": null,
   "metadata": {},
   "outputs": [],
   "source": [
    "#Testing Code\n",
    "loans= read_csv('./Working with CSV files/loans1.txt')\n",
    "compute_emi(loans)\n",
    "write_csv(loans,'./Working with CSV files/loans1.txt')\n",
    "\n",
    "with open ('./Working with CSV files/loans1.txt','r') as f:\n",
    "    print(f.read())"
   ]
  },
  {
   "cell_type": "code",
   "execution_count": null,
   "metadata": {},
   "outputs": [],
   "source": [
    "#Testing Code\n",
    "for loan in loans:\n",
    "    loan['emi'] = loan_emi(loan['amount'], loan['duration'], loan['rate']/12, loan['down_payment'])\n",
    "print (loans)\n",
    "\n"
   ]
  },
  {
   "cell_type": "code",
   "execution_count": null,
   "metadata": {},
   "outputs": [],
   "source": []
  }
 ],
 "metadata": {
  "kernelspec": {
   "display_name": "Python 3",
   "language": "python",
   "name": "python3"
  },
  "language_info": {
   "codemirror_mode": {
    "name": "ipython",
    "version": 3
   },
   "file_extension": ".py",
   "mimetype": "text/x-python",
   "name": "python",
   "nbconvert_exporter": "python",
   "pygments_lexer": "ipython3",
   "version": "3.8.5"
  }
 },
 "nbformat": 4,
 "nbformat_minor": 4
}
